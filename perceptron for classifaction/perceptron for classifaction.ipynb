{
 "cells": [
  {
   "cell_type": "markdown",
   "id": "cb861465-a35a-4e94-836a-0d6c5ce4d121",
   "metadata": {},
   "source": [
    "### Perceptrons for Classification\n"
   ]
  },
  {
   "cell_type": "markdown",
   "id": "1b3e97a0-64c7-4f7c-a662-615564a1e5be",
   "metadata": {},
   "source": [
    "- Make sure to install sklearn library.\n",
    "- %pip install -U scikit-learn\n"
   ]
  },
  {
   "cell_type": "code",
   "execution_count": 2,
   "id": "63c0566e-bb7e-44b0-b615-d8f016e286d4",
   "metadata": {},
   "outputs": [],
   "source": [
    "import numpy as np\n",
    "from sklearn import datasets\n",
    "from sklearn.metrics import accuracy_score\n",
    "from sklearn.model_selection import train_test_split\n",
    "from sklearn.preprocessing import StandardScaler\n",
    "import matplotlib.pyplot as plt \n",
    "import tensorflow as tf\n",
    "import pandas as pd\n"
   ]
  },
  {
   "cell_type": "markdown",
   "id": "52582c5d-1f06-49d0-b805-6ec86494e863",
   "metadata": {},
   "source": [
    "- Load the data Faces in the Wild from sklearn.datasets "
   ]
  },
  {
   "cell_type": "code",
   "execution_count": 3,
   "id": "4df6e124-08d6-4263-89b3-f6f8032e8a39",
   "metadata": {},
   "outputs": [
    {
     "name": "stdout",
     "output_type": "stream",
     "text": [
      "    Sample      x1      x2       x3  d\n",
      "0        1 -0.6508  0.1097   4.0009 -1\n",
      "1        2 -1.4492  0.8896   4.4005 -1\n",
      "2        3  2.0850  0.6876  12.0710 -1\n",
      "3        4  0.2626  1.1476   7.7985  1\n",
      "4        5  0.6418  1.0234   7.0427  1\n",
      "5        6  0.2569  0.6730   8.3265 -1\n",
      "6        7  1.1155  0.6043   7.4446  1\n",
      "7        8  0.0914  0.3399   7.0677 -1\n",
      "8        9  0.0121  0.5256   4.6316  1\n",
      "9       10 -0.0429  0.4660   5.4323  1\n",
      "10      11  0.4340  0.6870   8.2287 -1\n",
      "11      12  0.2735  1.0287   7.1934  1\n",
      "12      13  0.4839  0.4851   7.4850 -1\n",
      "13      14  0.4089 -0.1267   5.5019 -1\n",
      "14      15  1.4391  0.1614   8.5843 -1\n",
      "15      16 -0.9115 -0.1973   2.1962 -1\n",
      "16      17  0.3654  1.0475   7.4858  1\n",
      "17      18  0.2144  0.7515   7.1699  1\n",
      "18      19  0.2013  1.0014   6.5489  1\n",
      "19      20  0.6483  0.2183   5.8991  1\n",
      "20      21 -0.1147  0.2242   7.2435 -1\n",
      "21      22 -0.7970  0.8795   3.8762  1\n",
      "22      23 -1.0625  0.6366   2.4707  1\n",
      "23      24  0.5307  0.1285   5.6883  1\n",
      "24      25 -1.2200  0.7777   1.7252  1\n",
      "25      26  0.3957  0.1076   5.6623 -1\n",
      "26      27 -0.1013  0.5989   7.1812 -1\n",
      "27      28  2.4482  0.9455  11.2095  1\n",
      "28      29  2.0149  0.6192  10.9263 -1\n",
      "29      30  0.2012  0.2611   5.4631  1\n"
     ]
    }
   ],
   "source": [
    "data = pd.read_excel(r'C:\\Users\\Basil\\OneDrive\\Documents\\Lab_01_data.xlsx')\n",
    "\n",
    "print(data)\n",
    "d = data.pop('d')\n"
   ]
  },
  {
   "cell_type": "code",
   "execution_count": 4,
   "id": "6d1d2d8e-7d00-46f3-898a-a3c18c3b8a69",
   "metadata": {},
   "outputs": [
    {
     "data": {
      "text/plain": [
       "[array([ 1.    , -0.6508,  0.1097,  4.0009]),\n",
       " array([ 2.    , -1.4492,  0.8896,  4.4005]),\n",
       " array([ 3.    ,  2.085 ,  0.6876, 12.071 ]),\n",
       " array([4.    , 0.2626, 1.1476, 7.7985]),\n",
       " array([5.    , 0.6418, 1.0234, 7.0427]),\n",
       " array([6.    , 0.2569, 0.673 , 8.3265]),\n",
       " array([7.    , 1.1155, 0.6043, 7.4446]),\n",
       " array([8.    , 0.0914, 0.3399, 7.0677]),\n",
       " array([9.    , 0.0121, 0.5256, 4.6316]),\n",
       " array([10.    , -0.0429,  0.466 ,  5.4323]),\n",
       " array([11.    ,  0.434 ,  0.687 ,  8.2287]),\n",
       " array([12.    ,  0.2735,  1.0287,  7.1934]),\n",
       " array([13.    ,  0.4839,  0.4851,  7.485 ]),\n",
       " array([14.    ,  0.4089, -0.1267,  5.5019]),\n",
       " array([15.    ,  1.4391,  0.1614,  8.5843]),\n",
       " array([16.    , -0.9115, -0.1973,  2.1962]),\n",
       " array([17.    ,  0.3654,  1.0475,  7.4858]),\n",
       " array([18.    ,  0.2144,  0.7515,  7.1699]),\n",
       " array([19.    ,  0.2013,  1.0014,  6.5489]),\n",
       " array([20.    ,  0.6483,  0.2183,  5.8991]),\n",
       " array([21.    , -0.1147,  0.2242,  7.2435]),\n",
       " array([22.    , -0.797 ,  0.8795,  3.8762]),\n",
       " array([23.    , -1.0625,  0.6366,  2.4707]),\n",
       " array([24.    ,  0.5307,  0.1285,  5.6883]),\n",
       " array([25.    , -1.22  ,  0.7777,  1.7252]),\n",
       " array([26.    ,  0.3957,  0.1076,  5.6623]),\n",
       " array([27.    , -0.1013,  0.5989,  7.1812]),\n",
       " array([28.    ,  2.4482,  0.9455, 11.2095]),\n",
       " array([29.    ,  2.0149,  0.6192, 10.9263]),\n",
       " array([30.    ,  0.2012,  0.2611,  5.4631])]"
      ]
     },
     "execution_count": 4,
     "metadata": {},
     "output_type": "execute_result"
    }
   ],
   "source": [
    "tf_dataset = tf.data.Dataset.from_tensor_slices((data.values, d.values))\n",
    "x,y = [],[]\n",
    "for feature,value in tf_dataset.as_numpy_iterator() :\n",
    "    x.append(feature)\n",
    "    y.append(value)\n",
    "    \n",
    "x"
   ]
  },
  {
   "cell_type": "markdown",
   "id": "3a2e39ef-86fe-4e9c-98a1-e38bded35f98",
   "metadata": {},
   "source": [
    "- Now we have to standardize the training and test sets by removing the mean and scaling to unit variance."
   ]
  },
  {
   "cell_type": "code",
   "execution_count": 5,
   "id": "3d392da8-c668-4786-b3bc-1c5c6e843eaf",
   "metadata": {},
   "outputs": [],
   "source": [
    "\n",
    "scaler = StandardScaler()\n",
    "scaler.fit(x)\n",
    "\n",
    "Xtrs =  scaler.transform(x)\n"
   ]
  },
  {
   "cell_type": "markdown",
   "id": "648781c8-c7d5-41d5-a9c5-3c3c1eb6f0d7",
   "metadata": {},
   "source": [
    "- We plot two features from the training dataset according to their labels."
   ]
  },
  {
   "cell_type": "code",
   "execution_count": 6,
   "id": "ae8d5b6d-67f6-42a6-91d3-2a3903005a99",
   "metadata": {},
   "outputs": [
    {
     "data": {
      "image/png": "[encoded data removed]",
      "text/plain": [
       "<Figure size 640x480 with 1 Axes>"
      ]
     },
     "metadata": {},
     "output_type": "display_data"
    }
   ],
   "source": [
    "\n",
    "\n",
    "ntr = Xtrs.shape[0]\n",
    "feat1_neg = [Xtrs[ii,1] for ii in range(0, ntr) if y[ii]==-1]\n",
    "feat2_neg = [Xtrs[ii,3] for ii in range(0, ntr) if y[ii]==-1]\n",
    "feat1_pos = [Xtrs[ii,1] for ii in range(0, ntr) if y[ii]==1]\n",
    "feat2_pos = [Xtrs[ii,3] for ii in range(0, ntr) if y[ii]==1]\n",
    "\n",
    "plt.scatter(feat1_neg, feat2_neg, color = \"r\", label=\"label -1\")\n",
    "plt.scatter(feat1_pos, feat2_pos, color = \"b\", label=\"label 1\")\n",
    "plt.legend()\n",
    "plt.xlabel('Feat1')\n",
    "plt.ylabel('Feat2')\n",
    "plt.show()"
   ]
  },
  {
   "cell_type": "markdown",
   "id": "d996787e-b9c6-4508-905b-64290e713a17",
   "metadata": {},
   "source": [
    "- Complete the class Perceptron_Classifier"
   ]
  },
  {
   "cell_type": "code",
   "execution_count": 7,
   "id": "4d615bee-64ed-44cc-b265-3dd8265f245c",
   "metadata": {},
   "outputs": [],
   "source": [
    "class Perceptron_Classifier:\n",
    "\n",
    "    def __init__(self, dim,eta=0.1):\n",
    "        self.w = np.zeros((dim, 1))\n",
    "        self.ws = [self.w.copy()]\n",
    "        self.eta = 1e-1\n",
    "        \n",
    "    def predict(self,x):\n",
    "        pred = x @ self.w\n",
    "        return np.sign(pred)\n",
    "        \n",
    "    def model_update(self,x,y,pred):\n",
    "        self.w = self.w + (self.eta *((y-pred) * x[:,np.newaxis]))"
   ]
  },
  {
   "cell_type": "markdown",
   "id": "bb02af3b-9130-4905-aecf-2648b7b26524",
   "metadata": {},
   "source": [
    "\n",
    "- Compute the accuracy of training and test sets for each epoch, and hold them in two lists."
   ]
  },
  {
   "cell_type": "code",
   "execution_count": 11,
   "id": "3bf9538b-67a0-4f53-a08f-0b7a0013d18c",
   "metadata": {},
   "outputs": [],
   "source": [
    "Xtrs1 = np.insert(Xtrs, 0, 1, axis=1) \n",
    "\n",
    "epoch = 50\n",
    "\n",
    "ptr = []\n",
    "acctr = []\n",
    "#accte = []\n",
    "\n",
    "model = Perceptron_Classifier(dim=Xtrs1.shape[1],eta=0.1)\n",
    "\n",
    "for itr in range(epoch):\n",
    "    tr_miss = 0\n",
    "    for i in range(Xtrs.shape[0]):\n",
    "                      \n",
    "        predict = model.predict(Xtrs1[i, :])\n",
    "        \n",
    "        if y[i] != predict:                   \n",
    "            model.model_update(Xtrs1[i, :],y[i],predict)  \n",
    "            tr_miss += 1\n",
    "    ptr.append(tr_miss)\n",
    "    acctr.append(accuracy_score(y, model.predict(Xtrs1)))\n",
    "w = model.w.copy()"
   ]
  },
  {
   "cell_type": "code",
   "execution_count": 12,
   "id": "11256178-2b25-406a-98d8-00f839824a11",
   "metadata": {},
   "outputs": [
    {
     "name": "stdout",
     "output_type": "stream",
     "text": [
      "Accuracy on train set = 0.9666666666666667\n"
     ]
    }
   ],
   "source": [
    "print('Accuracy on train set =', accuracy_score(y, model.predict(Xtrs1)))"
   ]
  },
  {
   "cell_type": "code",
   "execution_count": 13,
   "id": "01d899dc-d84f-4f51-a5c8-0ce278eab92f",
   "metadata": {},
   "outputs": [
    {
     "data": {
      "image/png": "[encoded data removed]",
      "text/plain": [
       "<Figure size 640x480 with 1 Axes>"
      ]
     },
     "metadata": {},
     "output_type": "display_data"
    }
   ],
   "source": [
    "xs = [i for i in range(0,epoch)]\n",
    "plt.plot(xs, acctr,\"ob-\", label=\"training\")\n",
    "plt.xlim(0, epoch)\n",
    "plt.ylim(0.4, 1)\n",
    "plt.legend(('Train', 'Test'),loc='upper right')\n",
    "plt.xlabel('epoch')\n",
    "plt.ylabel('accuracy')\n",
    "plt.show()\n"
   ]
  },
  {
   "cell_type": "code",
   "execution_count": null,
   "id": "9d99e128-5f9d-48a9-a4a0-236b6b38253b",
   "metadata": {},
   "outputs": [],
   "source": []
  }
 ],
 "metadata": {
  "kernelspec": {
   "display_name": "Python 3 (ipykernel)",
   "language": "python",
   "name": "python3"
  },
  "language_info": {
   "codemirror_mode": {
    "name": "ipython",
    "version": 3
   },
   "file_extension": ".py",
   "mimetype": "text/x-python",
   "name": "python",
   "nbconvert_exporter": "python",
   "pygments_lexer": "ipython3",
   "version": "3.9.13"
  },
  "vscode": {
   "interpreter": {
    "hash": "fd8f82703ec1e3b1ff7ec915efc7afeb01d3eda324886e551a2e9b746f4acebd"
   }
  }
 },
 "nbformat": 4,
 "nbformat_minor": 5
}
