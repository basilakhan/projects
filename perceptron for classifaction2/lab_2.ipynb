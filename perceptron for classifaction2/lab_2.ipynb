{
 "cells": [
  {
   "cell_type": "markdown",
   "id": "cb861465-a35a-4e94-836a-0d6c5ce4d121",
   "metadata": {},
   "source": [
    "### Perceptrons for Classification\n"
   ]
  },
  {
   "cell_type": "markdown",
   "id": "1b3e97a0-64c7-4f7c-a662-615564a1e5be",
   "metadata": {},
   "source": [
    "- Make sure to install sklearn library.\n",
    "- %pip install -U scikit-learn\n"
   ]
  },
  {
   "cell_type": "code",
   "execution_count": 2,
   "id": "63c0566e-bb7e-44b0-b615-d8f016e286d4",
   "metadata": {},
   "outputs": [],
   "source": [
    "import numpy as np\n",
    "from sklearn import datasets\n",
    "from sklearn.metrics import accuracy_score\n",
    "from sklearn.model_selection import train_test_split\n",
    "from sklearn.preprocessing import StandardScaler\n",
    "import matplotlib.pyplot as plt \n",
    "import tensorflow as tf\n",
    "import pandas as pd\n"
   ]
  },
  {
   "cell_type": "markdown",
   "id": "52582c5d-1f06-49d0-b805-6ec86494e863",
   "metadata": {},
   "source": [
    "- Load the data Faces in the Wild from sklearn.datasets "
   ]
  },
  {
   "cell_type": "code",
   "execution_count": 11,
   "id": "4df6e124-08d6-4263-89b3-f6f8032e8a39",
   "metadata": {},
   "outputs": [
    {
     "name": "stdout",
     "output_type": "stream",
     "text": [
      "        x1      x2      x3      x4  d\n",
      "0   0.4329 -1.3719  0.7022 -0.8535  1\n",
      "1   0.3024  0.2286  0.8630  2.7909 -1\n",
      "2   0.1349 -0.6445  1.0530  0.5687 -1\n",
      "3   0.3374 -1.7163  0.3670 -0.6283 -1\n",
      "4   1.1434 -0.0485  0.6637  1.2606  1\n",
      "5   1.3749 -0.5071  0.4464  1.3009  1\n",
      "6   0.7221 -0.7587  0.7681 -0.5592  1\n",
      "7   0.4403 -0.8072  0.5154 -0.3129  1\n",
      "8  -0.5231  0.3548  0.2538  1.5776 -1\n",
      "9   0.3255 -2.0000  0.7112 -1.1209  1\n",
      "10  0.5824  1.3915 -0.2291  4.1735 -1\n",
      "11  0.1340  0.6081  0.4450  3.2230 -1\n",
      "12  0.1480 -0.2988  0.4778  0.8649  1\n",
      "13  0.7359  0.1869 -0.0872  2.3584  1\n",
      "14  0.7115 -1.1469  0.3394  0.9573 -1\n",
      "15  0.8251 -1.2840  0.8452  1.2382 -1\n",
      "16  0.1569  0.3712  0.8825  1.7633  1\n",
      "17  0.0033  0.6835  0.5389  2.8249 -1\n",
      "18  0.4243  0.8313  0.2634  3.5855 -1\n",
      "19  1.0490  0.1326  0.9138  1.9792  1\n",
      "20  1.4276  0.5331 -0.0145  3.7286  1\n",
      "21  0.5971  1.4865  0.2904  4.6069 -1\n",
      "22  0.8475  2.1479  0.3179  5.8235 -1\n",
      "23  1.3967 -0.4171  0.6443  1.3927  1\n",
      "24  0.0044  1.5378  0.6099  4.7755 -1\n",
      "25  0.2201 -0.5668  0.0515  0.7829  1\n",
      "26  0.6300 -1.2480  0.8591  0.8093 -1\n",
      "27 -0.2479  0.8960  0.0547  1.7381  1\n",
      "28 -0.3088 -0.0929  0.8659  1.5483 -1\n",
      "29 -0.5180  1.4974  0.5453  2.3993  1\n",
      "30  0.6833  0.8266  0.0829  2.8864  1\n",
      "31  0.4353 -1.4066  0.4207 -0.4879  1\n",
      "32 -0.1069 -3.2329  0.1856 -2.4572 -1\n",
      "33  0.4662  0.6261  0.7304  3.4370 -1\n",
      "34  0.8298 -1.4089  0.3119  1.3235 -1\n"
     ]
    }
   ],
   "source": [
    "data = pd.read_excel(r'C:\\Users\\Basil\\Downloads\\Lab2_data.xlsx')\n",
    "\n",
    "print(data)\n",
    "d = data.pop('d')\n"
   ]
  },
  {
   "cell_type": "code",
   "execution_count": 12,
   "id": "6d1d2d8e-7d00-46f3-898a-a3c18c3b8a69",
   "metadata": {},
   "outputs": [
    {
     "data": {
      "text/plain": [
       "[array([ 0.4329, -1.3719,  0.7022, -0.8535]),\n",
       " array([0.3024, 0.2286, 0.863 , 2.7909]),\n",
       " array([ 0.1349, -0.6445,  1.053 ,  0.5687]),\n",
       " array([ 0.3374, -1.7163,  0.367 , -0.6283]),\n",
       " array([ 1.1434, -0.0485,  0.6637,  1.2606]),\n",
       " array([ 1.3749, -0.5071,  0.4464,  1.3009]),\n",
       " array([ 0.7221, -0.7587,  0.7681, -0.5592]),\n",
       " array([ 0.4403, -0.8072,  0.5154, -0.3129]),\n",
       " array([-0.5231,  0.3548,  0.2538,  1.5776]),\n",
       " array([ 0.3255, -2.    ,  0.7112, -1.1209]),\n",
       " array([ 0.5824,  1.3915, -0.2291,  4.1735]),\n",
       " array([0.134 , 0.6081, 0.445 , 3.223 ]),\n",
       " array([ 0.148 , -0.2988,  0.4778,  0.8649]),\n",
       " array([ 0.7359,  0.1869, -0.0872,  2.3584]),\n",
       " array([ 0.7115, -1.1469,  0.3394,  0.9573]),\n",
       " array([ 0.8251, -1.284 ,  0.8452,  1.2382]),\n",
       " array([0.1569, 0.3712, 0.8825, 1.7633]),\n",
       " array([0.0033, 0.6835, 0.5389, 2.8249]),\n",
       " array([0.4243, 0.8313, 0.2634, 3.5855]),\n",
       " array([1.049 , 0.1326, 0.9138, 1.9792]),\n",
       " array([ 1.4276,  0.5331, -0.0145,  3.7286]),\n",
       " array([0.5971, 1.4865, 0.2904, 4.6069]),\n",
       " array([0.8475, 2.1479, 0.3179, 5.8235]),\n",
       " array([ 1.3967, -0.4171,  0.6443,  1.3927]),\n",
       " array([4.4000e-03, 1.5378e+00, 6.0990e-01, 4.7755e+00]),\n",
       " array([ 0.2201, -0.5668,  0.0515,  0.7829]),\n",
       " array([ 0.63  , -1.248 ,  0.8591,  0.8093]),\n",
       " array([-0.2479,  0.896 ,  0.0547,  1.7381]),\n",
       " array([-0.3088, -0.0929,  0.8659,  1.5483]),\n",
       " array([-0.518 ,  1.4974,  0.5453,  2.3993]),\n",
       " array([0.6833, 0.8266, 0.0829, 2.8864]),\n",
       " array([ 0.4353, -1.4066,  0.4207, -0.4879]),\n",
       " array([-0.1069, -3.2329,  0.1856, -2.4572]),\n",
       " array([0.4662, 0.6261, 0.7304, 3.437 ]),\n",
       " array([ 0.8298, -1.4089,  0.3119,  1.3235])]"
      ]
     },
     "execution_count": 12,
     "metadata": {},
     "output_type": "execute_result"
    }
   ],
   "source": [
    "tf_dataset = tf.data.Dataset.from_tensor_slices((data.values, d.values))\n",
    "x,y = [],[]\n",
    "for feature,value in tf_dataset.as_numpy_iterator() :\n",
    "    x.append(feature)\n",
    "    y.append(value)\n",
    "    \n",
    "x"
   ]
  },
  {
   "cell_type": "markdown",
   "id": "3a2e39ef-86fe-4e9c-98a1-e38bded35f98",
   "metadata": {},
   "source": [
    "- Now we have to standardize the training and test sets by removing the mean and scaling to unit variance."
   ]
  },
  {
   "cell_type": "code",
   "execution_count": 20,
   "id": "3d392da8-c668-4786-b3bc-1c5c6e843eaf",
   "metadata": {},
   "outputs": [],
   "source": [
    "\n",
    "scaler = StandardScaler()\n",
    "scaler.fit(x)\n",
    "\n",
    "Xtrs =  scaler.transform(x)\n"
   ]
  },
  {
   "cell_type": "markdown",
   "id": "648781c8-c7d5-41d5-a9c5-3c3c1eb6f0d7",
   "metadata": {},
   "source": [
    "- We plot two features from the training dataset according to their labels."
   ]
  },
  {
   "cell_type": "code",
   "execution_count": 21,
   "id": "ae8d5b6d-67f6-42a6-91d3-2a3903005a99",
   "metadata": {},
   "outputs": [
    {
     "data": {
      "image/png": "[encoded data removed]",
      "text/plain": [
       "<Figure size 640x480 with 1 Axes>"
      ]
     },
     "metadata": {},
     "output_type": "display_data"
    }
   ],
   "source": [
    "\n",
    "\n",
    "ntr = Xtrs.shape[0]\n",
    "feat1_neg = [Xtrs[ii,1] for ii in range(0, ntr) if y[ii]==-1]\n",
    "feat2_neg = [Xtrs[ii,3] for ii in range(0, ntr) if y[ii]==-1]\n",
    "feat1_pos = [Xtrs[ii,1] for ii in range(0, ntr) if y[ii]==1]\n",
    "feat2_pos = [Xtrs[ii,3] for ii in range(0, ntr) if y[ii]==1]\n",
    "\n",
    "plt.scatter(feat1_neg, feat2_neg, color = \"r\", label=\"label -1\")\n",
    "plt.scatter(feat1_pos, feat2_pos, color = \"b\", label=\"label 1\")\n",
    "plt.legend()\n",
    "plt.xlabel('Feat1')\n",
    "plt.ylabel('Feat2')\n",
    "plt.show()"
   ]
  },
  {
   "cell_type": "markdown",
   "id": "d996787e-b9c6-4508-905b-64290e713a17",
   "metadata": {},
   "source": [
    "- Complete the class Perceptron_Classifier"
   ]
  },
  {
   "cell_type": "code",
   "execution_count": 18,
   "id": "4d615bee-64ed-44cc-b265-3dd8265f245c",
   "metadata": {},
   "outputs": [],
   "source": [
    "class Perceptron_Classifier:\n",
    "\n",
    "    def __init__(self, dim,eta=0.1):\n",
    "        self.w = np.zeros((dim, 1))\n",
    "        self.ws = [self.w.copy()]\n",
    "        self.eta = 1e-1\n",
    "        \n",
    "    def predict(self,x):\n",
    "        pred = x @ self.w\n",
    "        return np.sign(pred)\n",
    "        \n",
    "    def model_update(self,x,y,pred):\n",
    "        self.w = self.w + (self.eta *((y-pred) * x[:,np.newaxis]))"
   ]
  },
  {
   "cell_type": "markdown",
   "id": "bb02af3b-9130-4905-aecf-2648b7b26524",
   "metadata": {},
   "source": [
    "\n",
    "- Compute the accuracy of training and test sets for each epoch, and hold them in two lists."
   ]
  },
  {
   "cell_type": "code",
   "execution_count": 23,
   "id": "3bf9538b-67a0-4f53-a08f-0b7a0013d18c",
   "metadata": {},
   "outputs": [],
   "source": [
    "Xtrs1 = np.insert(Xtrs, 0, 1, axis=1) \n",
    "\n",
    "epoch = 100\n",
    "\n",
    "ptr = []\n",
    "acctr = []\n",
    "#accte = []\n",
    "\n",
    "model = Perceptron_Classifier(dim=Xtrs1.shape[1],eta=0.1)\n",
    "\n",
    "for itr in range(epoch):\n",
    "    tr_miss = 0\n",
    "    for i in range(Xtrs.shape[0]):\n",
    "                      \n",
    "        predict = model.predict(Xtrs1[i, :])\n",
    "        \n",
    "        if y[i] != predict:                   \n",
    "            model.model_update(Xtrs1[i, :],y[i],predict)  \n",
    "            tr_miss += 1\n",
    "    ptr.append(tr_miss)\n",
    "    acctr.append(accuracy_score(y, model.predict(Xtrs1)))\n",
    "w = model.w.copy()"
   ]
  },
  {
   "cell_type": "code",
   "execution_count": 24,
   "id": "11256178-2b25-406a-98d8-00f839824a11",
   "metadata": {},
   "outputs": [
    {
     "name": "stdout",
     "output_type": "stream",
     "text": [
      "Accuracy on train set = 0.9428571428571428\n"
     ]
    }
   ],
   "source": [
    "print('Accuracy on train set =', accuracy_score(y, model.predict(Xtrs1)))"
   ]
  },
  {
   "cell_type": "code",
   "execution_count": 27,
   "id": "01d899dc-d84f-4f51-a5c8-0ce278eab92f",
   "metadata": {},
   "outputs": [
    {
     "data": {
      "image/png": "[encoded data removed]",
      "text/plain": [
       "<Figure size 640x480 with 1 Axes>"
      ]
     },
     "metadata": {},
     "output_type": "display_data"
    }
   ],
   "source": [
    "xs = [i for i in range(0,epoch)]\n",
    "plt.plot(xs, acctr,\"ob-\", label=\"training\")\n",
    "plt.xlim(0, epoch)\n",
    "plt.ylim(0.4, 1)\n",
    "plt.legend(('Train', 'Test'),loc='upper right')\n",
    "plt.xlabel('epoch')\n",
    "plt.ylabel('accuracy')\n",
    "plt.show()\n"
   ]
  }
 ],
 "metadata": {
  "kernelspec": {
   "display_name": "Python 3 (ipykernel)",
   "language": "python",
   "name": "python3"
  },
  "language_info": {
   "codemirror_mode": {
    "name": "ipython",
    "version": 3
   },
   "file_extension": ".py",
   "mimetype": "text/x-python",
   "name": "python",
   "nbconvert_exporter": "python",
   "pygments_lexer": "ipython3",
   "version": "3.9.13"
  },
  "vscode": {
   "interpreter": {
    "hash": "fd8f82703ec1e3b1ff7ec915efc7afeb01d3eda324886e551a2e9b746f4acebd"
   }
  }
 },
 "nbformat": 4,
 "nbformat_minor": 5
}
